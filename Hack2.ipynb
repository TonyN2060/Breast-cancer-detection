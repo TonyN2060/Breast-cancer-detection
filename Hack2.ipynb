{
  "cells": [
    {
      "cell_type": "markdown",
      "metadata": {
        "id": "view-in-github",
        "colab_type": "text"
      },
      "source": [
        "<a href=\"https://colab.research.google.com/github/TonyN2060/Capstone-Project/blob/main/Hack2.ipynb\" target=\"_parent\"><img src=\"https://colab.research.google.com/assets/colab-badge.svg\" alt=\"Open In Colab\"/></a>"
      ]
    },
    {
      "cell_type": "code",
      "execution_count": 10,
      "metadata": {
        "id": "1YJdl9HeFyFb"
      },
      "outputs": [],
      "source": [
        "from datasets import load_dataset\n",
        "from transformers import pipeline\n",
        "from io import BytesIO\n",
        "import numpy as np\n"
      ]
    },
    {
      "cell_type": "code",
      "source": [],
      "metadata": {
        "id": "SBkGlY6DZN36"
      },
      "execution_count": null,
      "outputs": []
    },
    {
      "cell_type": "code",
      "execution_count": 11,
      "metadata": {
        "colab": {
          "base_uri": "https://localhost:8080/"
        },
        "id": "we1H59CvF8_b",
        "outputId": "8a1ef734-01ad-4ffe-a95a-e290162fe7d5"
      },
      "outputs": [
        {
          "output_type": "stream",
          "name": "stderr",
          "text": [
            "Some weights of the model checkpoint at thinkKenya/wav2vec2-large-xls-r-300m-sw were not used when initializing Wav2Vec2ForCTC: ['wav2vec2.encoder.pos_conv_embed.conv.weight_g', 'wav2vec2.encoder.pos_conv_embed.conv.weight_v']\n",
            "- This IS expected if you are initializing Wav2Vec2ForCTC from the checkpoint of a model trained on another task or with another architecture (e.g. initializing a BertForSequenceClassification model from a BertForPreTraining model).\n",
            "- This IS NOT expected if you are initializing Wav2Vec2ForCTC from the checkpoint of a model that you expect to be exactly identical (initializing a BertForSequenceClassification model from a BertForSequenceClassification model).\n",
            "Some weights of Wav2Vec2ForCTC were not initialized from the model checkpoint at thinkKenya/wav2vec2-large-xls-r-300m-sw and are newly initialized: ['wav2vec2.encoder.pos_conv_embed.conv.parametrizations.weight.original0', 'wav2vec2.encoder.pos_conv_embed.conv.parametrizations.weight.original1']\n",
            "You should probably TRAIN this model on a down-stream task to be able to use it for predictions and inference.\n"
          ]
        }
      ],
      "source": [
        "asr = pipeline(\"automatic-speech-recognition\",\n",
        "               model =\"thinkKenya/wav2vec2-large-xls-r-300m-sw\",\n",
        "               feature_extractor=\"thinkKenya/wav2vec2-large-xls-r-300m-sw\")"
      ]
    },
    {
      "cell_type": "code",
      "execution_count": 25,
      "metadata": {
        "id": "WtWIOurAMLj3",
        "colab": {
          "base_uri": "https://localhost:8080/"
        },
        "outputId": "42ca9206-854d-4b1a-85f5-46ca466fe7e1"
      },
      "outputs": [
        {
          "output_type": "stream",
          "name": "stderr",
          "text": [
            "Some weights of the model checkpoint at thinkKenya/wav2vec2-large-xls-r-300m-sw were not used when initializing Wav2Vec2ForCTC: ['wav2vec2.encoder.pos_conv_embed.conv.weight_g', 'wav2vec2.encoder.pos_conv_embed.conv.weight_v']\n",
            "- This IS expected if you are initializing Wav2Vec2ForCTC from the checkpoint of a model trained on another task or with another architecture (e.g. initializing a BertForSequenceClassification model from a BertForPreTraining model).\n",
            "- This IS NOT expected if you are initializing Wav2Vec2ForCTC from the checkpoint of a model that you expect to be exactly identical (initializing a BertForSequenceClassification model from a BertForSequenceClassification model).\n",
            "Some weights of Wav2Vec2ForCTC were not initialized from the model checkpoint at thinkKenya/wav2vec2-large-xls-r-300m-sw and are newly initialized: ['wav2vec2.encoder.pos_conv_embed.conv.parametrizations.weight.original0', 'wav2vec2.encoder.pos_conv_embed.conv.parametrizations.weight.original1']\n",
            "You should probably TRAIN this model on a down-stream task to be able to use it for predictions and inference.\n"
          ]
        }
      ],
      "source": [
        "from transformers import pipeline\n",
        "\n",
        "\n",
        "# Load ASR model\n",
        "asr = pipeline(\"automatic-speech-recognition\",\n",
        "               model=\"thinkKenya/wav2vec2-large-xls-r-300m-sw\",\n",
        "               feature_extractor=\"thinkKenya/wav2vec2-large-xls-r-300m-sw\")\n",
        "\n",
        "def transcribe_audio(audio_file_path):\n",
        "    # Read audio file\n",
        "    with open(audio_file_path, \"rb\") as audio_file:\n",
        "        audio_content = audio_file.read()\n",
        "\n",
        "    # Transcribe audio\n",
        "    transcription = asr(audio_content)\n",
        "\n",
        "    return transcription\n",
        "\n",
        "def transcribe_and_save(audio_file_path, variable_name='transcription_variable'):\n",
        "    try:\n",
        "        result = transcribe_audio(audio_file_path)\n",
        "        print(f\"Transcription: {result}\")\n",
        "\n",
        "        # Save the transcription in a variable with the specified name\n",
        "        globals()[variable_name] = result\n",
        "    except Exception as e:\n",
        "        print(f\"Error: {e}\")\n",
        "\n",
        "# Example usage:\n",
        "# transcribe_and_save('path/to/your/audio/file.mp3', variable_name='my_transcription')\n",
        "# print(my_transcription)\n"
      ]
    },
    {
      "cell_type": "code",
      "source": [
        "transcribe_and_save('/content/common_voice_sw_37982408.mp3',variable_name=\"Name\")"
      ],
      "metadata": {
        "id": "x0Emc6tFS-vA",
        "colab": {
          "base_uri": "https://localhost:8080/"
        },
        "outputId": "c8d407e9-2474-4755-e041-426b11604ad3"
      },
      "execution_count": 26,
      "outputs": [
        {
          "output_type": "stream",
          "name": "stdout",
          "text": [
            "Transcription: {'text': 'ripoti ya baraza la jumuia afria mashariki ambayo gazeti la mwana afrika mashariki iliona inaonyesha kuwa uganda hijaribishwa na utinuzi'}\n"
          ]
        }
      ]
    },
    {
      "cell_type": "code",
      "source": [
        "print(Name)"
      ],
      "metadata": {
        "colab": {
          "base_uri": "https://localhost:8080/"
        },
        "id": "OTXYVBytd-WW",
        "outputId": "95494028-eb30-44b7-867e-1a1594f56604"
      },
      "execution_count": 27,
      "outputs": [
        {
          "output_type": "stream",
          "name": "stdout",
          "text": [
            "{'text': 'ripoti ya baraza la jumuia afria mashariki ambayo gazeti la mwana afrika mashariki iliona inaonyesha kuwa uganda hijaribishwa na utinuzi'}\n"
          ]
        }
      ]
    },
    {
      "cell_type": "code",
      "source": [
        "type(Name)"
      ],
      "metadata": {
        "colab": {
          "base_uri": "https://localhost:8080/"
        },
        "id": "zooSTTHFjtYi",
        "outputId": "6d588371-ffa8-439c-be8e-51486429282d"
      },
      "execution_count": 28,
      "outputs": [
        {
          "output_type": "execute_result",
          "data": {
            "text/plain": [
              "dict"
            ]
          },
          "metadata": {},
          "execution_count": 28
        }
      ]
    },
    {
      "cell_type": "code",
      "source": [],
      "metadata": {
        "id": "_kAzYzKSfvjU"
      },
      "execution_count": 23,
      "outputs": []
    },
    {
      "cell_type": "code",
      "source": [],
      "metadata": {
        "id": "XSCkSkV2f5yj"
      },
      "execution_count": null,
      "outputs": []
    }
  ],
  "metadata": {
    "colab": {
      "provenance": [],
      "authorship_tag": "ABX9TyP5qXmnY50hTVJJduB7HP7g",
      "include_colab_link": true
    },
    "kernelspec": {
      "display_name": "Python 3",
      "name": "python3"
    },
    "language_info": {
      "name": "python"
    }
  },
  "nbformat": 4,
  "nbformat_minor": 0
}